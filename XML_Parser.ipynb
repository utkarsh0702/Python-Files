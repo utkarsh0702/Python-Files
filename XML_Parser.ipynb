{
 "cells": [
  {
   "cell_type": "code",
   "execution_count": 1,
   "metadata": {},
   "outputs": [],
   "source": [
    "import pandas as pd \n",
    "import xml.etree.ElementTree as et"
   ]
  },
  {
   "cell_type": "code",
   "execution_count": 2,
   "metadata": {},
   "outputs": [],
   "source": [
    "from xml.dom import minidom"
   ]
  },
  {
   "cell_type": "code",
   "execution_count": 3,
   "metadata": {},
   "outputs": [],
   "source": [
    "xtree = et.parse(\"Wheat_2018.xml\")\n",
    "xroot = xtree.getroot() "
   ]
  },
  {
   "cell_type": "code",
   "execution_count": 4,
   "metadata": {},
   "outputs": [
    {
     "name": "stdout",
     "output_type": "stream",
     "text": [
      "<Element '{http://schemas.xmlsoap.org/soap/envelope/}Envelope' at 0x0000021E054AD6D8>\n",
      "<Element '{http://schemas.xmlsoap.org/soap/envelope/}Body' at 0x0000021E054AD778>\n"
     ]
    },
    {
     "ename": "AttributeError",
     "evalue": "'NoneType' object has no attribute 'text'",
     "output_type": "error",
     "traceback": [
      "\u001b[1;31m---------------------------------------------------------------------------\u001b[0m",
      "\u001b[1;31mAttributeError\u001b[0m                            Traceback (most recent call last)",
      "\u001b[1;32m<ipython-input-4-ac6534604b82>\u001b[0m in \u001b[0;36m<module>\u001b[1;34m\u001b[0m\n\u001b[0;32m      5\u001b[0m     \u001b[0mprint\u001b[0m\u001b[1;33m(\u001b[0m\u001b[0mbody\u001b[0m\u001b[1;33m)\u001b[0m\u001b[1;33m\u001b[0m\u001b[1;33m\u001b[0m\u001b[0m\n\u001b[0;32m      6\u001b[0m     \u001b[1;32mfor\u001b[0m \u001b[0mnode\u001b[0m \u001b[1;32min\u001b[0m \u001b[0mbody\u001b[0m\u001b[1;33m:\u001b[0m\u001b[1;33m\u001b[0m\u001b[1;33m\u001b[0m\u001b[0m\n\u001b[1;32m----> 7\u001b[1;33m         \u001b[0mstate\u001b[0m \u001b[1;33m=\u001b[0m \u001b[0mnode\u001b[0m\u001b[1;33m.\u001b[0m\u001b[0mfind\u001b[0m\u001b[1;33m(\u001b[0m\u001b[1;34m\"State\"\u001b[0m\u001b[1;33m)\u001b[0m\u001b[1;33m.\u001b[0m\u001b[0mtext\u001b[0m \u001b[1;32mif\u001b[0m \u001b[0mnode\u001b[0m \u001b[1;32mis\u001b[0m \u001b[1;32mnot\u001b[0m \u001b[1;32mNone\u001b[0m \u001b[1;32melse\u001b[0m \u001b[1;32mNone\u001b[0m\u001b[1;33m\u001b[0m\u001b[1;33m\u001b[0m\u001b[0m\n\u001b[0m\u001b[0;32m      8\u001b[0m         \u001b[0mdist\u001b[0m \u001b[1;33m=\u001b[0m \u001b[0mnode\u001b[0m\u001b[1;33m.\u001b[0m\u001b[0mfind\u001b[0m\u001b[1;33m(\u001b[0m\u001b[1;34m\"District\"\u001b[0m\u001b[1;33m)\u001b[0m\u001b[1;33m.\u001b[0m\u001b[0mtext\u001b[0m \u001b[1;32mif\u001b[0m \u001b[0mnode\u001b[0m \u001b[1;32mis\u001b[0m \u001b[1;32mnot\u001b[0m \u001b[1;32mNone\u001b[0m \u001b[1;32melse\u001b[0m \u001b[1;32mNone\u001b[0m\u001b[1;33m\u001b[0m\u001b[1;33m\u001b[0m\u001b[0m\n\u001b[0;32m      9\u001b[0m         \u001b[0mmarket\u001b[0m \u001b[1;33m=\u001b[0m \u001b[0mnode\u001b[0m\u001b[1;33m.\u001b[0m\u001b[0mfind\u001b[0m\u001b[1;33m(\u001b[0m\u001b[1;34m\"Market\"\u001b[0m\u001b[1;33m)\u001b[0m\u001b[1;33m.\u001b[0m\u001b[0mtext\u001b[0m \u001b[1;32mif\u001b[0m \u001b[0mnode\u001b[0m \u001b[1;32mis\u001b[0m \u001b[1;32mnot\u001b[0m \u001b[1;32mNone\u001b[0m \u001b[1;32melse\u001b[0m \u001b[1;32mNone\u001b[0m\u001b[1;33m\u001b[0m\u001b[1;33m\u001b[0m\u001b[0m\n",
      "\u001b[1;31mAttributeError\u001b[0m: 'NoneType' object has no attribute 'text'"
     ]
    }
   ],
   "source": [
    "df_cols = [\"State\", \"District\", \"Market\", \"Commodity\",\"Variety\",\"Arrival_Date\",\"Min_x0020_Price\",\"Max_x0020_Price\",\"Modal_x0020_Price\"]\n",
    "rows = []\n",
    "print(xroot)\n",
    "for body in xroot: \n",
    "    print(body)\n",
    "    for node in body:\n",
    "        state = node.find(\"State\").text if node is not None else None\n",
    "        dist = node.find(\"District\").text if node is not None else None\n",
    "        market = node.find(\"Market\").text if node is not None else None\n",
    "        comm = node.find(\"Commodity\").text if node is not None else None\n",
    "        var = node.find(\"Variety\").text if node is not None else None\n",
    "        arr = node.find(\"Arrival_Date\").text if node is not None else None\n",
    "        min_price = node.find(\"Min_x0020_Price\").text if node is not None else None\n",
    "        max_price = node.find(\"Max_x0020_Price\").text if node is not None else None\n",
    "        model_price = node.find(\"Modal_x0020_Price\").text if node is not None else None\n",
    "        \n",
    "        rows.append({\"State\": state, \"District\": dist, \n",
    "                     \"Market\": market, \"Commodity\": comm,\n",
    "                    \"Variety\": var, \"Arrival_Date\": arr,\n",
    "                    \"Min_x0020_Price\": min_price, \"Max_x0020_Price\": max_price,\n",
    "                    \"Modal_x0020_Price\": modal_price})\n",
    "\n",
    "out_df = pd.DataFrame(rows, columns = df_cols)"
   ]
  },
  {
   "cell_type": "code",
   "execution_count": 9,
   "metadata": {},
   "outputs": [
    {
     "name": "stdout",
     "output_type": "stream",
     "text": [
      "<xml.dom.minidom.Document object at 0x0000021E1B8068E8>\n"
     ]
    }
   ],
   "source": [
    "doc= minidom.parse(\"Wheat_2018.xml\")\n",
    "print(doc)"
   ]
  },
  {
   "cell_type": "code",
   "execution_count": 10,
   "metadata": {},
   "outputs": [
    {
     "name": "stderr",
     "output_type": "stream",
     "text": [
      "IOPub data rate exceeded.\n",
      "The notebook server will temporarily stop sending output\n",
      "to the client in order to avoid crashing it.\n",
      "To change this limit, set the config variable\n",
      "`--NotebookApp.iopub_data_rate_limit`.\n",
      "\n",
      "Current values:\n",
      "NotebookApp.iopub_data_rate_limit=1000000.0 (bytes/sec)\n",
      "NotebookApp.rate_limit_window=3.0 (secs)\n",
      "\n"
     ]
    }
   ],
   "source": [
    "state = doc.getElementsByTagName(\"State\")\n",
    "print(state)"
   ]
  },
  {
   "cell_type": "code",
   "execution_count": 8,
   "metadata": {},
   "outputs": [
    {
     "name": "stdout",
     "output_type": "stream",
     "text": [
      "<Element '{http://schemas.xmlsoap.org/soap/envelope/}Body' at 0x0000021E054AD778>\n",
      "<Element '{http://agmarknet.nic.in/}showResponse' at 0x0000021E054AD818>\n",
      "<Element '{http://agmarknet.nic.in/}showResult' at 0x0000021E054AD8B8>\n",
      "<Element '{http://www.w3.org/2001/XMLSchema}schema' at 0x0000021E054AD958>\n",
      "<Element '{http://www.w3.org/2001/XMLSchema}element' at 0x0000021E054ADA48>\n",
      "<Element '{http://www.w3.org/2001/XMLSchema}complexType' at 0x0000021E054ADAE8>\n",
      "<Element '{http://www.w3.org/2001/XMLSchema}choice' at 0x0000021E054ADB88>\n",
      "<Element '{urn:schemas-microsoft-com:xml-diffgram-v1}diffgram' at 0x0000021E054B21D8>\n",
      "<Element 'NewDataSet' at 0x0000021E054B2228>\n",
      "<Element 'Table' at 0x0000021E054B2368>\n",
      "<Element 'State' at 0x0000021E054B23B8>\n",
      "<Element 'District' at 0x0000021E054B2408>\n",
      "<Element 'Market' at 0x0000021E054B2458>\n",
      "<Element 'Commodity' at 0x0000021E054B24A8>\n",
      "<Element 'Variety' at 0x0000021E054B24F8>\n",
      "<Element 'Arrival_Date' at 0x0000021E054B2548>\n",
      "<Element 'Min_x0020_Price' at 0x0000021E054B2598>\n",
      "<Element 'Max_x0020_Price' at 0x0000021E054B25E8>\n",
      "<Element 'Modal_x0020_Price' at 0x0000021E054B2688>\n"
     ]
    }
   ],
   "source": [
    "for body in xroot: \n",
    "    print(body)\n",
    "    for resp in body:\n",
    "        print(resp)\n",
    "        for res in resp:\n",
    "            print(res)\n",
    "            for ele in res:\n",
    "                print(ele)\n",
    "                for data in ele:\n",
    "                    print(data)\n",
    "                    for node in data:\n",
    "                        print(node)\n",
    "                        for info in node:\n",
    "                            print(info)\n",
    "                        break"
   ]
  },
  {
   "cell_type": "code",
   "execution_count": null,
   "metadata": {},
   "outputs": [],
   "source": []
  }
 ],
 "metadata": {
  "kernelspec": {
   "display_name": "Python 3",
   "language": "python",
   "name": "python3"
  },
  "language_info": {
   "codemirror_mode": {
    "name": "ipython",
    "version": 3
   },
   "file_extension": ".py",
   "mimetype": "text/x-python",
   "name": "python",
   "nbconvert_exporter": "python",
   "pygments_lexer": "ipython3",
   "version": "3.7.6"
  }
 },
 "nbformat": 4,
 "nbformat_minor": 4
}
