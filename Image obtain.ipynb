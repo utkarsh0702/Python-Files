{
 "cells": [
  {
   "cell_type": "code",
   "execution_count": 2,
   "metadata": {},
   "outputs": [
    {
     "name": "stdout",
     "output_type": "stream",
     "text": [
      "Collecting moviepy\n",
      "  Downloading moviepy-1.0.2.tar.gz (7.8 MB)\n",
      "Requirement already satisfied: decorator<5.0,>=4.0.2 in c:\\users\\utkarsh\\anaconda3\\lib\\site-packages (from moviepy) (4.4.1)\n",
      "Requirement already satisfied: tqdm<5.0,>=4.11.2 in c:\\users\\utkarsh\\anaconda3\\lib\\site-packages (from moviepy) (4.42.1)\n",
      "Requirement already satisfied: requests<3.0,>=2.8.1 in c:\\users\\utkarsh\\anaconda3\\lib\\site-packages (from moviepy) (2.22.0)\n",
      "Collecting proglog<=1.0.0\n",
      "  Downloading proglog-0.1.9.tar.gz (10 kB)\n",
      "Requirement already satisfied: numpy>=1.17.3 in c:\\users\\utkarsh\\anaconda3\\lib\\site-packages (from moviepy) (1.18.1)\n",
      "Requirement already satisfied: imageio<3.0,>=2.5 in c:\\users\\utkarsh\\anaconda3\\lib\\site-packages (from moviepy) (2.6.1)\n",
      "Collecting imageio_ffmpeg>=0.2.0\n",
      "  Downloading imageio_ffmpeg-0.4.1-py3-none-win_amd64.whl (21.0 MB)\n",
      "Requirement already satisfied: idna<2.9,>=2.5 in c:\\users\\utkarsh\\anaconda3\\lib\\site-packages (from requests<3.0,>=2.8.1->moviepy) (2.8)\n",
      "Requirement already satisfied: chardet<3.1.0,>=3.0.2 in c:\\users\\utkarsh\\anaconda3\\lib\\site-packages (from requests<3.0,>=2.8.1->moviepy) (3.0.4)\n",
      "Requirement already satisfied: certifi>=2017.4.17 in c:\\users\\utkarsh\\anaconda3\\lib\\site-packages (from requests<3.0,>=2.8.1->moviepy) (2019.11.28)\n",
      "Requirement already satisfied: urllib3!=1.25.0,!=1.25.1,<1.26,>=1.21.1 in c:\\users\\utkarsh\\anaconda3\\lib\\site-packages (from requests<3.0,>=2.8.1->moviepy) (1.25.8)\n",
      "Requirement already satisfied: pillow in c:\\users\\utkarsh\\anaconda3\\lib\\site-packages (from imageio<3.0,>=2.5->moviepy) (7.0.0)\n",
      "Building wheels for collected packages: moviepy, proglog\n",
      "  Building wheel for moviepy (setup.py): started\n",
      "  Building wheel for moviepy (setup.py): finished with status 'done'\n",
      "  Created wheel for moviepy: filename=moviepy-1.0.2-py3-none-any.whl size=110733 sha256=5baa07e3ba3d100bcc4b02b057af4245527a5fab1d6e12fc87ae31b8671c3716\n",
      "  Stored in directory: c:\\users\\utkarsh\\appdata\\local\\pip\\cache\\wheels\\f0\\36\\f2\\32c37d2b7a4f04622ccec875f71ebf5f33f892cea410f26454\n",
      "  Building wheel for proglog (setup.py): started\n",
      "  Building wheel for proglog (setup.py): finished with status 'done'\n",
      "  Created wheel for proglog: filename=proglog-0.1.9-py3-none-any.whl size=6153 sha256=b3b811594e9d15ad8c4b6f3ccf3fe92c3c0e8a96a28a16a2afa54cdca1316014\n",
      "  Stored in directory: c:\\users\\utkarsh\\appdata\\local\\pip\\cache\\wheels\\12\\36\\1f\\dc61e6ac10781d63cf6fa045eb09fa613a667384e12cb6e6e0\n",
      "Successfully built moviepy proglog\n",
      "Installing collected packages: proglog, imageio-ffmpeg, moviepy\n",
      "Successfully installed imageio-ffmpeg-0.4.1 moviepy-1.0.2 proglog-0.1.9\n",
      "Note: you may need to restart the kernel to use updated packages.\n"
     ]
    }
   ],
   "source": [
    "pip install moviepy"
   ]
  },
  {
   "cell_type": "code",
   "execution_count": 2,
   "metadata": {},
   "outputs": [],
   "source": [
    "from moviepy.video.io.ffmpeg_tools import ffmpeg_extract_subclip"
   ]
  },
  {
   "cell_type": "code",
   "execution_count": 5,
   "metadata": {},
   "outputs": [
    {
     "name": "stdout",
     "output_type": "stream",
     "text": [
      "Moviepy - Running:\n",
      ">>> \"+ \" \".join(cmd)\n",
      "Moviepy - Command successful\n"
     ]
    }
   ],
   "source": [
    "ffmpeg_extract_subclip(\"Perioperative Nurse Training in the Simulation Center.mp4\", 85, 236, targetname=\"test2.mp4\")"
   ]
  },
  {
   "cell_type": "code",
   "execution_count": 7,
   "metadata": {},
   "outputs": [
    {
     "name": "stdout",
     "output_type": "stream",
     "text": [
      "Collecting opencv-python\n",
      "  Downloading opencv_python-4.2.0.34-cp37-cp37m-win_amd64.whl (33.0 MB)\n",
      "Requirement already satisfied: numpy>=1.14.5 in c:\\users\\utkarsh\\anaconda3\\lib\\site-packages (from opencv-python) (1.18.1)\n",
      "Installing collected packages: opencv-python\n",
      "Successfully installed opencv-python-4.2.0.34\n",
      "Note: you may need to restart the kernel to use updated packages.\n"
     ]
    }
   ],
   "source": [
    "pip install opencv-python"
   ]
  },
  {
   "cell_type": "code",
   "execution_count": 1,
   "metadata": {},
   "outputs": [],
   "source": [
    "import cv2\n",
    "import os"
   ]
  },
  {
   "cell_type": "code",
   "execution_count": 6,
   "metadata": {},
   "outputs": [
    {
     "name": "stdout",
     "output_type": "stream",
     "text": [
      "Creating..../Images/1110.jpg\n",
      "Creating..../Images/1111.jpg\n",
      "Creating..../Images/1112.jpg\n",
      "Creating..../Images/1113.jpg\n",
      "Creating..../Images/1114.jpg\n",
      "Creating..../Images/1115.jpg\n",
      "Creating..../Images/1116.jpg\n",
      "Creating..../Images/1117.jpg\n",
      "Creating..../Images/1118.jpg\n",
      "Creating..../Images/1119.jpg\n",
      "Creating..../Images/1120.jpg\n",
      "Creating..../Images/1121.jpg\n",
      "Creating..../Images/1122.jpg\n",
      "Creating..../Images/1123.jpg\n",
      "Creating..../Images/1124.jpg\n",
      "Creating..../Images/1125.jpg\n",
      "Creating..../Images/1126.jpg\n",
      "Creating..../Images/1127.jpg\n",
      "Creating..../Images/1128.jpg\n",
      "Creating..../Images/1129.jpg\n",
      "Creating..../Images/1130.jpg\n",
      "Creating..../Images/1131.jpg\n",
      "Creating..../Images/1132.jpg\n",
      "Creating..../Images/1133.jpg\n",
      "Creating..../Images/1134.jpg\n",
      "Creating..../Images/1135.jpg\n",
      "Creating..../Images/1136.jpg\n",
      "Creating..../Images/1137.jpg\n",
      "Creating..../Images/1138.jpg\n",
      "Creating..../Images/1139.jpg\n",
      "Creating..../Images/1140.jpg\n",
      "Creating..../Images/1141.jpg\n",
      "Creating..../Images/1142.jpg\n",
      "Creating..../Images/1143.jpg\n",
      "Creating..../Images/1144.jpg\n",
      "Creating..../Images/1145.jpg\n",
      "Creating..../Images/1146.jpg\n",
      "Creating..../Images/1147.jpg\n",
      "Creating..../Images/1148.jpg\n",
      "Creating..../Images/1149.jpg\n",
      "Creating..../Images/1150.jpg\n",
      "Creating..../Images/1151.jpg\n",
      "Creating..../Images/1152.jpg\n",
      "Creating..../Images/1153.jpg\n",
      "Creating..../Images/1154.jpg\n",
      "Creating..../Images/1155.jpg\n",
      "Creating..../Images/1156.jpg\n",
      "Creating..../Images/1157.jpg\n",
      "Creating..../Images/1158.jpg\n",
      "Creating..../Images/1159.jpg\n",
      "Creating..../Images/1160.jpg\n",
      "Creating..../Images/1161.jpg\n",
      "Creating..../Images/1162.jpg\n",
      "Creating..../Images/1163.jpg\n",
      "Creating..../Images/1164.jpg\n",
      "Creating..../Images/1165.jpg\n",
      "Creating..../Images/1166.jpg\n",
      "Creating..../Images/1167.jpg\n",
      "Creating..../Images/1168.jpg\n",
      "Creating..../Images/1169.jpg\n",
      "Creating..../Images/1170.jpg\n",
      "Creating..../Images/1171.jpg\n",
      "Creating..../Images/1172.jpg\n",
      "Creating..../Images/1173.jpg\n",
      "Creating..../Images/1174.jpg\n",
      "Creating..../Images/1175.jpg\n",
      "Creating..../Images/1176.jpg\n",
      "Creating..../Images/1177.jpg\n",
      "Creating..../Images/1178.jpg\n",
      "Creating..../Images/1179.jpg\n",
      "Creating..../Images/1180.jpg\n",
      "Creating..../Images/1181.jpg\n",
      "Creating..../Images/1182.jpg\n",
      "Creating..../Images/1183.jpg\n",
      "Creating..../Images/1184.jpg\n",
      "Creating..../Images/1185.jpg\n",
      "Creating..../Images/1186.jpg\n",
      "Creating..../Images/1187.jpg\n",
      "Creating..../Images/1188.jpg\n",
      "Creating..../Images/1189.jpg\n",
      "Creating..../Images/1190.jpg\n",
      "Creating..../Images/1191.jpg\n",
      "Creating..../Images/1192.jpg\n",
      "Creating..../Images/1193.jpg\n",
      "Creating..../Images/1194.jpg\n",
      "Creating..../Images/1195.jpg\n",
      "Creating..../Images/1196.jpg\n",
      "Creating..../Images/1197.jpg\n",
      "Creating..../Images/1198.jpg\n",
      "Creating..../Images/1199.jpg\n",
      "Creating..../Images/1200.jpg\n"
     ]
    }
   ],
   "source": [
    "cam = cv2.VideoCapture(\"test.mp4\")\n",
    "# frame \n",
    "currentframe = 0\n",
    "i=1110\n",
    "count=5\n",
    "while(True):\n",
    "    # reading from frame \n",
    "    ret,frame = cam.read()\n",
    "  \n",
    "    if ret:  \n",
    "        if count==5:\n",
    "            # if video is still left continue creating images \n",
    "            name = './Images/' + str(i) + '.jpg'\n",
    "            print ('Creating...' + name)\n",
    "            # writing the extracted images\n",
    "            cv2.imwrite(name, frame) \n",
    "            i+=1\n",
    "            count=0\n",
    "        # increasing counter so that it will \n",
    "        # show how many frames are created \n",
    "        currentframe += 1\n",
    "        count+=1\n",
    "    else: \n",
    "        break\n",
    "  \n",
    "# Release all space and windows once done \n",
    "cam.release() \n",
    "cv2.destroyAllWindows() "
   ]
  },
  {
   "cell_type": "code",
   "execution_count": null,
   "metadata": {},
   "outputs": [],
   "source": []
  }
 ],
 "metadata": {
  "kernelspec": {
   "display_name": "Python 3",
   "language": "python",
   "name": "python3"
  },
  "language_info": {
   "codemirror_mode": {
    "name": "ipython",
    "version": 3
   },
   "file_extension": ".py",
   "mimetype": "text/x-python",
   "name": "python",
   "nbconvert_exporter": "python",
   "pygments_lexer": "ipython3",
   "version": "3.7.6"
  }
 },
 "nbformat": 4,
 "nbformat_minor": 4
}
